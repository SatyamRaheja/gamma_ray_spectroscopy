{
 "cells": [
  {
   "cell_type": "markdown",
   "metadata": {},
   "source": [
    "## Analog to Digital Convertor (ADC)"
   ]
  },
  {
   "cell_type": "markdown",
   "metadata": {},
   "source": [
    "For n − bits, the total possible digital signals are $2^n$. \n",
    "\n",
    "Let’s take n = 3. For 3 − bits, the total possible digital signals are $2^3$ = 8.\n",
    "\n",
    "Let the voltage range of our signal is from V1 to V2.\n",
    "\n",
    "We can easily calculate the smallest voltage input change necessary for a one-bit change in the output (Resolution) as follows:-\n",
    "\n",
    "$$Resolution = \\frac{(V_1 −V_2)}{2^n}$$"
   ]
  },
  {
   "cell_type": "code",
   "execution_count": 1,
   "metadata": {},
   "outputs": [],
   "source": [
    "# Importing libraries\n",
    "import numpy as np # for mathematical functions and arrays\n",
    "import matplotlib.pyplot as plt # for plotting\n",
    "import random # to choose random numbers"
   ]
  },
  {
   "cell_type": "code",
   "execution_count": 4,
   "metadata": {},
   "outputs": [],
   "source": [
    "# Let's define a normal analog signal\n",
    "E_center=3.5 # chosing value at which peak is centered\n",
    "mu=E_center # mean\n",
    "sigma=1 # standard deviation\n",
    "N=1000 # Number of data points\n",
    "E=np.random.normal(mu,sigma,N) # calling normal function\n",
    "# To convert analog signal into digital, we first chose number of bits and define binsize\n",
    "n_bits=3\n",
    "bin_size=(max(E)-min(E))/(2**n_bits) # resolution"
   ]
  },
  {
   "cell_type": "code",
   "execution_count": 5,
   "metadata": {},
   "outputs": [
    {
     "data": {
      "image/png": "[encoded data removed]",
      "text/plain": [
       "<Figure size 432x288 with 1 Axes>"
      ]
     },
     "metadata": {
      "needs_background": "light"
     },
     "output_type": "display_data"
    }
   ],
   "source": [
    "# Imagine concentric circles with radius as integral multiple of bin size till E_max\n",
    "# Concentric circles can be numbered starting from 0\n",
    "# By dividing energy with bin_size, we can figure out in which concentric circle it lies and we will add that number of concentric circle in a list\n",
    "# At last, we can count the same numbers appended in the list and plot histogram\n",
    "E_dist=[]\n",
    "for i in range(len(E)):\n",
    "    bin_index=int(E[i]/bin_size) # bin index/numbered region of concentric circles corresponding to each energy value\n",
    "    E_dist.append(bin_index)\n",
    "E_dist=np.array(E_dist)\n",
    "plt.hist(E_dist,bins=[(i-0.5) for i in range(2**n_bits+1)],edgecolor=\"black\") # plotting histogram\n",
    "# labelling axes and adding title\n",
    "plt.title('Analog to Digital Converter')\n",
    "plt.xlabel(\"Decimal Equivalent\")\n",
    "plt.ylabel(\"Count\")\n",
    "plt.xticks(range(0,2**n_bits))\n",
    "plt.yticks(range(0,400,25))\n",
    "plt.grid(axis='y')\n",
    "plt.show()"
   ]
  }
 ],
 "metadata": {
  "kernelspec": {
   "display_name": "Python 3",
   "language": "python",
   "name": "python3"
  },
  "language_info": {
   "codemirror_mode": {
    "name": "ipython",
    "version": 3
   },
   "file_extension": ".py",
   "mimetype": "text/x-python",
   "name": "python",
   "nbconvert_exporter": "python",
   "pygments_lexer": "ipython3",
   "version": "3.8.5"
  }
 },
 "nbformat": 4,
 "nbformat_minor": 4
}
